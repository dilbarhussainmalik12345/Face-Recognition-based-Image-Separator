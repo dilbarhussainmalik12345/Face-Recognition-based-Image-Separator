{
 "cells": [
  {
   "cell_type": "markdown",
   "id": "4b8905df",
   "metadata": {},
   "source": [
    "Task 1: Logistic Regression\n",
    "Task Description: Using the famous Iris dataset, train a logistic regression model to classify flowers into the species 'setosa' and 'not-setosa'."
   ]
  },
  {
   "cell_type": "code",
   "execution_count": 2,
   "id": "cd48c076",
   "metadata": {},
   "outputs": [],
   "source": [
    "from sklearn.datasets import load_iris\n",
    "from sklearn.linear_model import LogisticRegression\n",
    "from sklearn.model_selection import train_test_split\n",
    "from sklearn.metrics import accuracy_score\n",
    "\n",
    "# Load the Iris dataset\n",
    "\n",
    "# Convert the target to binary: 'setosa' or 'not-setosa'\n",
    "\n",
    "# Split the data\n",
    "\n",
    "# Initialize and train a logistic regression classifier\n",
    "\n",
    "\n",
    "# TODO: Fit the classifier to the training data\n",
    "# TODO: Predict on the test data\n",
    "# TODO: Calculate and print the accuracy"
   ]
  },
  {
   "cell_type": "markdown",
   "id": "2c7c558b",
   "metadata": {},
   "source": [
    "Task 2: Naïve Bayes\n",
    "Task Description: Implement a simple text classification task to classify messages as 'spam' or 'ham' using the Naïve Bayes classifier."
   ]
  },
  {
   "cell_type": "code",
   "execution_count": null,
   "id": "14ec0724",
   "metadata": {},
   "outputs": [],
   "source": [
    "from sklearn.feature_extraction.text import CountVectorizer\n",
    "from sklearn.naive_bayes import MultinomialNB\n",
    "from sklearn.model_selection import train_test_split\n",
    "from sklearn.metrics import accuracy_score\n",
    "\n",
    "# Sample data\n",
    "messages = [\"win cash now\", \"call me back\", \"important meeting at 10\", \"get free tickets\"]\n",
    "labels = [\"spam\", \"ham\", \"ham\", \"spam\"]\n",
    "\n",
    "# Convert text data to feature vectors\n",
    "vectorizer = CountVectorizer()\n",
    "X = vectorizer.fit_transform(messages)\n",
    "y = labels\n",
    "\n",
    "# Split the data\n",
    "\n",
    "# Initialize the Naive Bayes classifier\n",
    "\n",
    "# TODO: Fit the classifier to the training data\n",
    "# TODO: Predict on the test data\n",
    "# TODO: Calculate and print the accuracy\n",
    "# Fit the classifier to the training data\n",
    "\n",
    "# Predict on the test data\n",
    "\n",
    "# Calculate and print the accuracy\n"
   ]
  },
  {
   "cell_type": "code",
   "execution_count": null,
   "id": "764a2756",
   "metadata": {},
   "outputs": [],
   "source": []
  }
 ],
 "metadata": {
  "kernelspec": {
   "display_name": "Python 3 (ipykernel)",
   "language": "python",
   "name": "python3"
  },
  "language_info": {
   "codemirror_mode": {
    "name": "ipython",
    "version": 3
   },
   "file_extension": ".py",
   "mimetype": "text/x-python",
   "name": "python",
   "nbconvert_exporter": "python",
   "pygments_lexer": "ipython3",
   "version": "3.9.12"
  }
 },
 "nbformat": 4,
 "nbformat_minor": 5
}
